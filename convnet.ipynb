{
  "nbformat": 4,
  "nbformat_minor": 0,
  "metadata": {
    "colab": {
      "name": "convnet.ipynb",
      "version": "0.3.2",
      "provenance": [],
      "collapsed_sections": [],
      "include_colab_link": true
    }
  },
  "cells": [
    {
      "cell_type": "markdown",
      "metadata": {
        "id": "view-in-github",
        "colab_type": "text"
      },
      "source": [
        "[View in Colaboratory](https://colab.research.google.com/github/SakshiPriya/convnet/blob/master/convnet.ipynb)"
      ]
    },
    {
      "metadata": {
        "id": "BW8_oZqJAwR5",
        "colab_type": "code",
        "colab": {
          "base_uri": "https://localhost:8080/",
          "height": 138
        },
        "outputId": "fc733c92-44d6-4d73-d9bf-1b0da6c0a8b6"
      },
      "cell_type": "code",
      "source": [
        "!pip install torch\n"
      ],
      "execution_count": 1,
      "outputs": [
        {
          "output_type": "stream",
          "text": [
            "Collecting torch\n",
            "\u001b[?25l  Downloading https://files.pythonhosted.org/packages/06/a7/6a173738dd6be014ebf9ba6f0b441d91b113b1506a98e10da4ff60994b54/torch-0.4.1-cp27-cp27mu-manylinux1_x86_64.whl (519.5MB)\n",
            "\u001b[K    100% |████████████████████████████████| 519.5MB 21kB/s \n",
            "tcmalloc: large alloc 1073750016 bytes == 0x556b5655a000 @  0x7febc4d1d1c4 0x556afd92a0d8 0x556afda13d5d 0x556afd93d77a 0x556afd942462 0x556afd93ab3a 0x556afd94282e 0x556afd93ab3a 0x556afd94282e 0x556afd93ab3a 0x556afd94282e 0x556afd93ab3a 0x556afd942e1f 0x556afd93ab3a 0x556afd94282e 0x556afd93ab3a 0x556afd94282e 0x556afd942462 0x556afd942462 0x556afd93ab3a 0x556afd942e1f 0x556afd942462 0x556afd93ab3a 0x556afd942e1f 0x556afd93ab3a 0x556afd942e1f 0x556afd93ab3a 0x556afd94282e 0x556afd93ab3a 0x556afd96b50f 0x556afd966202\n",
            "\u001b[?25hInstalling collected packages: torch\n",
            "Successfully installed torch-0.4.1\n"
          ],
          "name": "stdout"
        }
      ]
    },
    {
      "metadata": {
        "id": "PLFraRteA4lZ",
        "colab_type": "code",
        "colab": {}
      },
      "cell_type": "code",
      "source": [
        "import torch\n",
        "import torch.nn as nn\n",
        "import torch.optim as optim\n",
        "import torch.nn.functional as f\n",
        "import matplotlib.pyplot as plt"
      ],
      "execution_count": 0,
      "outputs": []
    },
    {
      "metadata": {
        "id": "WgnT2AL1BOlI",
        "colab_type": "code",
        "colab": {}
      },
      "cell_type": "code",
      "source": [
        "class net(nn.Module):\n",
        "  #in init only define trainable parameters\n",
        "  def __init__(self):\n",
        "    super(net,self).__init__()    \n",
        "    self.conv1=nn.Conv2d(1,16,5) #filter1\n",
        "    self.conv2=nn.Conv2d(16,32,3)#filter2\n",
        "    self.conv3=nn.Conv2d(32,32,1)#filter3\n",
        "    self.fc1=nn.Linear(32*23*23,2500) #linear layer input and output\n",
        "    self.fc2=nn.Linear(2500,1000)\n",
        "    self.fc3=nn.Linear(1000,100)\n",
        "    self.fc4=nn.Linear(100,10)\n",
        "    \n",
        "  def forward(self,x):\n",
        "    x=f.max_pool2d(f.relu(self.conv1(x)),(2,2),stride=1)\n",
        "    x=f.max_pool2d(f.relu(self.conv2(x)),(2,2),stride=1)\n",
        "    x=f.max_pool2d(f.relu(self.conv3(x)),(2,2),stride=1)\n",
        "    x=x.view(-1,self.num_of_features(x))\n",
        "   \n",
        "    x=f.relu(self.fc1(x))\n",
        "    x=f.relu(self.fc2(x))\n",
        "    x=f.relu(self.fc3(x))\n",
        "    x=self.fc4(x)\n",
        "    return x\n",
        "  \n",
        "  def num_of_features(self,x):\n",
        "    size=x.size()[1:]     \n",
        "    numfeatures=1\n",
        "    for s in size:\n",
        "      numfeatures*=s\n",
        "    return numfeatures\n",
        "  \n",
        "NET=net()\n",
        "Loss=[]\n",
        "criterion=nn.CrossEntropyLoss()\n",
        "optimizer=optim.SGD(NET.parameters(),lr=0.01,momentum=0.9)\n",
        "epoch=400\n",
        "for i in range(epoch):\n",
        "     input=torch.rand(10,1,32,32) #define input of the format as filter\n",
        "     target=torch.randint(1, 10, (10,)).long()\n",
        "     out=NET(input)\n",
        "     loss=criterion(out,target)\n",
        "     Loss.append(loss/10)\n",
        "     loss.backward()\n",
        "     optimizer.step()\n",
        "\n"
      ],
      "execution_count": 0,
      "outputs": []
    },
    {
      "metadata": {
        "id": "2BS-rOjK73vu",
        "colab_type": "code",
        "colab": {
          "base_uri": "https://localhost:8080/",
          "height": 347
        },
        "outputId": "ee734170-6d99-41f5-9f5c-3ecf60c5b10c"
      },
      "cell_type": "code",
      "source": [
        "plt.figure()\n",
        "plt.plot(Loss)\n",
        "plt.show()"
      ],
      "execution_count": 24,
      "outputs": [
        {
          "output_type": "display_data",
          "data": {
            "image/png": "[encoded data removed]",
            "text/plain": [
              "<matplotlib.figure.Figure at 0x7f9009100790>"
            ]
          },
          "metadata": {
            "tags": []
          }
        }
      ]
    },
    {
      "metadata": {
        "id": "9mUtmDjDcpOZ",
        "colab_type": "code",
        "colab": {
          "base_uri": "https://localhost:8080/",
          "height": 50
        },
        "outputId": "6e7c358b-2154-48ca-ae7c-5cf442b1e89c"
      },
      "cell_type": "code",
      "source": [
        "input=torch.rand(1,1,32,32) #define input of the format as filter\n",
        "target=torch.randint(1, 10, (1,)).long()\n",
        "output=NET(input)\n",
        "print(output,target)"
      ],
      "execution_count": 25,
      "outputs": [
        {
          "output_type": "stream",
          "text": [
            "(tensor([[-61.7816,  52.5570,  33.3751,  -1.1099, -37.3549, -53.2038,  49.0301,\n",
            "          -7.1602,  39.1348, -13.7355]], grad_fn=<ThAddmmBackward>), tensor([3]))\n"
          ],
          "name": "stdout"
        }
      ]
    }
  ]
}